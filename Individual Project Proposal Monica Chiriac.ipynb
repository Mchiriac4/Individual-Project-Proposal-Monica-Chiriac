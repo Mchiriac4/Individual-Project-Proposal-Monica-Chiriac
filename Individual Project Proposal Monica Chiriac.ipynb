{
 "cells": [
  {
   "cell_type": "code",
   "execution_count": 1,
   "id": "ffac9124",
   "metadata": {},
   "outputs": [],
   "source": [
    "# Topic 1: Social anxiety and loneliness \n",
    "# Link: https://static1.squarespace.com/static/60283c2e174c122f8ebe0f39/t/63e6733ae785253f65ed921a/1676047162757/CSCG_Evidence+Brief_Social+Anxiety.pdf\n",
    "# Research question: Will the reduction of social anxiety decrease the rate of loneliness?\n",
    "# Variables: Intensity of social anxiety vs rate of loneliness \n",
    "# Analysis: \n",
    "# Measure social anxiety and loneliness as continuous variables\n",
    "# Set null hypothesis as there being no correlation between social anxiety and loneliness and set alternative hypothesis as higher social anxiety is associated with higher loneliness\n",
    "# Find descriptive statistics, do a correlation analysis and a regression analysis \n",
    "# Interpret the analysis to determine if social anxiety and loneliness is correlated\n",
    "# Hypothesis:  When social anxiety is at a low then the rate of loneliness will be at a low. "
   ]
  },
  {
   "cell_type": "code",
   "execution_count": 2,
   "id": "64434d5d",
   "metadata": {},
   "outputs": [],
   "source": [
    "# Topic 2: Solitude and well being \n",
    "# Link: https://static1.squarespace.com/static/60283c2e174c122f8ebe0f39/t/64e8266e1cea4a7297a3b096/1692935790543/CSCG_Evidence+Brief_Needs+for+Solitude.pdf\n",
    "# Research question: Will the increase of time spent in solitude decrease well being? \n",
    "# Variables: time spent in solitude vs well being \n",
    "# Analysis: \n",
    "# Measure time spent in solitude and well being as continuous variables\n",
    "# Set null hypothesis as there being no correlation between time spent in solitude and well being and set alternative hypothesis as increased time in solitude is associated with decreased well-being\n",
    "# Find descriptive statistics, do a correlation analysis and a regression analysis \n",
    "# Interpret the analysis to determine if time spent in solitude and well being is correlated and consider the threshold effect\n",
    "# Hypothesis: When time spent in solitude increases then well being will decrease. "
   ]
  },
  {
   "cell_type": "code",
   "execution_count": null,
   "id": "bbfb20ce",
   "metadata": {},
   "outputs": [],
   "source": [
    "# Topic 3: Friends and depression \n",
    "# Link: https://static1.squarespace.com/static/60283c2e174c122f8ebe0f39/t/645a88655583045704102e40/1683654757592/CSCG_Evidence+Brief_Number+of+Friends.pdf\n",
    "# Research question: What is the optimal number of friends to have in terms of depression? \n",
    "# Variables: Number of friends vs depression score \n",
    "# Analysis: \n",
    "# Measure number of friends and depression scores as continuous variables\n",
    "# Set null hypothesis as there being no correlation between the number of friends and depression scores and set alternative hypothesis as depression scores are lowest when individuals have between 4 and 6 friends.\n",
    "# Find descriptive statistics, do a correlation analysis and a regression analysis \n",
    "# Interpret the analysis to determine if depression scores are lowest between 4 and 6 friends\n",
    "# Hypothesis:  Depression scores will be at a low between 4 and 6 friends."
   ]
  }
 ],
 "metadata": {
  "kernelspec": {
   "display_name": "Python 3 (ipykernel)",
   "language": "python",
   "name": "python3"
  },
  "language_info": {
   "codemirror_mode": {
    "name": "ipython",
    "version": 3
   },
   "file_extension": ".py",
   "mimetype": "text/x-python",
   "name": "python",
   "nbconvert_exporter": "python",
   "pygments_lexer": "ipython3",
   "version": "3.11.6"
  }
 },
 "nbformat": 4,
 "nbformat_minor": 5
}
